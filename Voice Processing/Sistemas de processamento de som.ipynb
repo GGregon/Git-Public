{
 "cells": [
  {
   "cell_type": "code",
   "execution_count": 40,
   "id": "a0846b7f",
   "metadata": {},
   "outputs": [],
   "source": [
    "# Manipulação dos dados e visualizações\n",
    "import numpy as np\n",
    "import matplotlib.pyplot as plt\n",
    "from matplotlib.cm import get_cmap\n",
    "from matplotlib.colors import Normalize, LogNorm\n",
    "from matplotlib.colorbar import ColorbarBase\n",
    "from matplotlib.gridspec import GridSpec\n",
    "import random\n",
    "\n",
    "# Widgets para iteração com os gráficos\n",
    "from ipywidgets import interact, FloatRangeSlider\n",
    "import ipywidgets as widgets\n",
    "\n",
    "# Extração de sinais de audio\n",
    "from scipy.io import wavfile\n",
    "from scipy.fft import fft, fftfreq\n",
    "from scipy.signal import spectrogram\n",
    "import librosa\n",
    "import librosa.display\n",
    "import IPython.display as ipd"
   ]
  },
  {
   "cell_type": "markdown",
   "id": "6bef63e7",
   "metadata": {},
   "source": [
    "```python\n",
    "#  Choose a colormap\n",
    "colormap = get_cmap('GnBu')\n",
    "num_colors = len(top_frequencies)\n",
    "color_indices = np.linspace(0, 1, num_colors)\n",
    "\n",
    "# norm = LogNorm(vmin=1, vmax=num_colors)\n",
    "norm = Normalize(vmin=0, vmax=num_colors\n",
    "color = colormap(color_indices[i])\n",
    "\n",
    "#  Create a color bar\n",
    "sm = plt.cm.ScalarMappable(cmap=colormap, norm=norm)\n",
    "sm.set_array([])\n",
    "cbar = plt.colorbar(sm, ax=ax1)\n",
    "cbar.set_label('Frequencies')\n",
    "\n",
    "# Define custom tick positions and labels\n",
    "tick_positions = np.arange(0, len(top_frequencies))\n",
    "tick_labels = [f'{np.round(i,1)}' for i in np.sort(top_frequencies)]\n",
    "# tick_positions = np.logspace(0, np.log10(top_frequencies), len(top_frequencies))\n",
    "# tick_labels = [f'{int(pos)}' for pos in tick_positions]\n",
    "cbar.set_ticks(tick_positions)\n",
    "cbar.set_ticklabels(tick_labels)\n",
    "                 \n",
    "                 \n",
    "# Remove ticks\n",
    " ax.spines['top'].set_visible(False)\n",
    " ax.spines['right'].set_visible(False)\n",
    " ax.spines['bottom'].set_visible(False)\n",
    " ax.spines['left'].set_visible(False)\n",
    "```"
   ]
  },
  {
   "cell_type": "markdown",
   "id": "c796ba61",
   "metadata": {},
   "source": [
    "### 1. Captura do sinal pelo microfone\n",
    "\n",
    "* O microfone contém um componente chamado diafragma que converte as ondas sonoras em variações de pressão em um sinal elétrico.\n",
    "\n",
    "* Essas variações de pressão são transformadas em variações de corrente elétrica ou tensão elétrica, dependendo do tipo de microfone.\n",
    "\n",
    "* O sinal elétrico resultante é uma representação analógica da forma de onda do som."
   ]
  },
  {
   "cell_type": "markdown",
   "id": "7f051c7a",
   "metadata": {},
   "source": [
    "> figura da onda sonora produzindo a oscilação no diafragma e produzindo uma variação no fluxo magnético."
   ]
  },
  {
   "cell_type": "markdown",
   "id": "04d43f62",
   "metadata": {},
   "source": [
    "### 2. Pré-ampliação do sinal\n",
    "\n",
    "* O sinal elétrico captado pelo microfone pode ser muito fraco para ser processado diretamente, então é comum que seja amplificado.\n",
    "\n",
    "* Amplificadores de sinal são usados para aumentar a amplitude do sinal elétrico sem distorcê-lo significativamente.\n",
    "* A amplificação ajuda a melhorar a relação sinal-ruído e a garantir que o sinal analógico seja forte o suficiente para ser processado com precisão pelo ADC."
   ]
  },
  {
   "cell_type": "markdown",
   "id": "a5f524bf",
   "metadata": {},
   "source": [
    "### 3. Amostragem:\n",
    "\n",
    "* A amostragem é o processo de capturar instantâneos discretos do sinal analógico em intervalos regulares de tempo.\n",
    "* O teorema de Nyquist-Shannon estabelece que a taxa de amostragem deve ser pelo menos duas vezes maior que a frequência máxima do sinal analógico para evitar a perda de informações.\n",
    "* Um circuito de amostragem e retenção é usado para manter o valor do sinal analógico constante enquanto é amostrado pelo ADC."
   ]
  },
  {
   "cell_type": "markdown",
   "id": "b58d0880",
   "metadata": {},
   "source": [
    "### 4. Quantização:\n",
    "\n",
    "* A quantização é o processo de mapear a amplitude de cada amostra do sinal analógico em um valor digital correspondente.\n",
    "* O ADC divide a faixa de valores possíveis em um conjunto finito de níveis discretos.\n",
    "* Quanto maior a resolução do ADC (medida em bits), mais precisamente o sinal analógico é representado digitalmente.\n",
    "* A quantização introduz um erro chamado erro de quantização, que é a diferença entre o valor digitalizado e o valor real do sinal analógico."
   ]
  },
  {
   "cell_type": "markdown",
   "id": "a09950a2",
   "metadata": {},
   "source": [
    "### 5. Codificação:\n",
    "\n",
    "* Após a quantização, os valores digitais resultantes são codificados em formato digital, geralmente usando código binário.\n",
    "* Cada amostra quantizada é representada por uma sequência de bits, onde cada bit representa um nível de amplitude.\n",
    "* O formato dos dados digitais pode variar dependendo do tipo de ADC e do protocolo de comunicação usado para transmitir os dados."
   ]
  },
  {
   "cell_type": "markdown",
   "id": "8ec8a587",
   "metadata": {},
   "source": [
    "### 6. Saída digital:\n",
    "\n",
    "* A saída digital do ADC é uma sequência de valores digitais que representam o sinal analógico original ao longo do tempo.\n",
    "* Esses valores digitais podem ser processados por dispositivos digitais, como processadores de sinal digital (DSP), microcontroladores ou computadores.\n",
    "* A saída digital pode ser armazenada em memória digital, transmitida por meio de interfaces digitais (como USB ou Ethernet) ou processada em tempo real para várias aplicações."
   ]
  },
  {
   "cell_type": "markdown",
   "id": "22ef80c7",
   "metadata": {},
   "source": [
    "### 1. Lendo arquivos de audio\n",
    "Vamos ler um arquivo `.wav` contendo a gravação de uma voz pronunciando a letra <b>a</b>"
   ]
  },
  {
   "cell_type": "markdown",
   "id": "b8f16fcc",
   "metadata": {},
   "source": [
    "<center>\n",
    "<img src='.\\Images\\record.png' width=500>\n",
    "</center>"
   ]
  },
  {
   "cell_type": "markdown",
   "id": "ccbe85cc",
   "metadata": {},
   "source": [
    "> O sinal original é uma onda cujo eixo vertical representa a variação na pressão acústica em função do tempo."
   ]
  },
  {
   "cell_type": "markdown",
   "id": "49ff3d7a",
   "metadata": {},
   "source": [
    "<center>\n",
    "<img src='.\\Images\\signal_reconstruction.png'>\n",
    "</center>"
   ]
  },
  {
   "cell_type": "markdown",
   "id": "b8cf9238",
   "metadata": {},
   "source": [
    "> Já o sinal processado (discretizado) pelo computador é uma reconstrução do sinal original (analógico) a partir de $n$ amostras coletadas em intervalos de tempo fixos $\\Delta t$. Evidentemente, quanto maior o número de amostras coletadas por unidade de tempo, mais fidedigna será a representação do sinal reconstruido."
   ]
  },
  {
   "cell_type": "code",
   "execution_count": 23,
   "id": "5add3d03",
   "metadata": {},
   "outputs": [],
   "source": [
    "# Lê .wav de canal único e retorna vetor com as amplitudes e a taxa de amostragem\n",
    "x, sr = librosa.load('grave.wav')"
   ]
  },
  {
   "cell_type": "markdown",
   "id": "f0426282",
   "metadata": {},
   "source": [
    "* `x` representa um vetor unidimensional com as intensidades (amplitudes) do sinal digitalizado em cada instante de tempo.\n",
    "* `sr` é a taxa de amostragem (sample rate) sobre a qual o sinal analógico original fora submetido a fim de obter sua versão digitalizada. "
   ]
  },
  {
   "cell_type": "markdown",
   "id": "543fbb8e",
   "metadata": {},
   "source": [
    "> Note que `sr` é expressa em amostras/s, sendo assim, para obter a <b>duração</b> ($\\Delta t$) do sinal original, basta dividir o número total de amostras (obtido pelo tamanho do vetor `x`) pela taxa de amostragem `sr`\n",
    "$$\n",
    "\\Delta t = \\frac{\\text{número de amostras}}{\\frac{\\text{número de amostras}}{\\text{segundo}}}\n",
    "$$"
   ]
  },
  {
   "cell_type": "code",
   "execution_count": 24,
   "id": "7f46917b",
   "metadata": {},
   "outputs": [],
   "source": [
    "# Calcula a duração do audio em segundos\n",
    "duracao = x.size/sr"
   ]
  },
  {
   "cell_type": "markdown",
   "id": "064c2bb3",
   "metadata": {},
   "source": [
    "> Caso o sinal fosse estereo, considerariamos a média de cada um dos canais.\n",
    "```python\n",
    "# Ensure the signal is mono\n",
    "if signal.ndim > 1:\n",
    "    signal = signal.mean(axis=1)           # Retorna a média\n",
    "```"
   ]
  },
  {
   "cell_type": "code",
   "execution_count": 25,
   "id": "ed2f7ffe",
   "metadata": {},
   "outputs": [],
   "source": [
    "# Vetor correspondente aos instantes de tempo\n",
    "tempo = np.linspace(0, duracao, x.size)"
   ]
  },
  {
   "cell_type": "markdown",
   "id": "438a3c18",
   "metadata": {},
   "source": [
    "## 2. Visualizando a forma de onda"
   ]
  },
  {
   "cell_type": "markdown",
   "id": "ce942e50",
   "metadata": {},
   "source": [
    "### 2.1 Sinal no tempo"
   ]
  },
  {
   "cell_type": "code",
   "execution_count": 31,
   "id": "c577fa0c",
   "metadata": {},
   "outputs": [
    {
     "data": {
      "image/png": "[encoded data removed]",
      "text/plain": [
       "<Figure size 1200x400 with 1 Axes>"
      ]
     },
     "metadata": {},
     "output_type": "display_data"
    }
   ],
   "source": [
    "fig, ax = plt.subplots(figsize=(12, 4))\n",
    "\n",
    "ax.plot(tempo, x,color='tab:blue')\n",
    "ax.set_xlabel('Time [s]', loc='right')\n",
    "ax.set_ylabel('$\\Delta p$')\n",
    "ax.set_yticklabels([])\n",
    "ax.grid(True, alpha=0.6,ls='--')\n",
    "ax.minorticks_on()\n",
    "plt.tick_params(axis='x', top=True, which='both')\n",
    "\n",
    "plt.show()"
   ]
  },
  {
   "cell_type": "markdown",
   "id": "db350c84",
   "metadata": {},
   "source": [
    "Como amostrar o sinal"
   ]
  },
  {
   "cell_type": "code",
   "execution_count": 10,
   "id": "cbcba680",
   "metadata": {},
   "outputs": [],
   "source": [
    "# Amostrando o sinal original\n",
    "n = 50\n",
    "\n",
    "# Calculate the step size\n",
    "k = len(tempo) // n\n",
    "\n",
    "# Sample the arrays using slicing\n",
    "t_sampled = tempo[::k]\n",
    "x_sampled = x[::k]"
   ]
  },
  {
   "cell_type": "markdown",
   "id": "ef872f7c",
   "metadata": {},
   "source": [
    "### 2.2 Sinal na frequência\n",
    "Por se tratar de um sinal não periódico, usaremos a transformada de Fourier para extrair as componentes de frequência."
   ]
  },
  {
   "cell_type": "markdown",
   "id": "4fcaa91b",
   "metadata": {},
   "source": [
    "* Contínua (FFT)\n",
    "$$\n",
    "\\mathcal{F}\\{f(t)\\} = \\hat{f}(\\omega) = \\int_{-\\infty}^{\\infty} f(t) e^{-i \\omega t} \\, dt\n",
    "$$\n",
    "\n",
    "* Discreta (DFT)\n",
    "$$\n",
    "X[k] = \\mathcal{F}\\{x[n]\\} = \\sum_{n=0}^{N-1} x[n] e^{-i \\frac{2\\pi}{N} kn}\n",
    "$$"
   ]
  },
  {
   "cell_type": "markdown",
   "id": "8b45b775",
   "metadata": {},
   "source": [
    "> Repare que embora o som seja uma onda contínua, o sinal a ser processado está armazenado num vetor com finitos elementos, sendo, portanto, uma representação discreta do mesmo"
   ]
  },
  {
   "cell_type": "code",
   "execution_count": 32,
   "id": "b4ee8ba9",
   "metadata": {},
   "outputs": [],
   "source": [
    "# Realiza a DFT no sinal x\n",
    "fourier_transform = fft(x)"
   ]
  },
  {
   "cell_type": "code",
   "execution_count": 91,
   "id": "8cc547de",
   "metadata": {},
   "outputs": [],
   "source": [
    "ft = random.sample(list(fourier_transform),5)"
   ]
  },
  {
   "cell_type": "code",
   "execution_count": 93,
   "id": "a217d8eb",
   "metadata": {},
   "outputs": [
    {
     "data": {
      "image/png": "[encoded data removed]",
      "text/plain": [
       "<Figure size 800x600 with 1 Axes>"
      ]
     },
     "metadata": {},
     "output_type": "display_data"
    }
   ],
   "source": [
    "# Plot the complex numbers in the Argand-Gauss plane\n",
    "plt.figure(figsize=(8, 6))\n",
    "\n",
    "ax = plt.subplot()\n",
    "for cn in ft:\n",
    "#     ax.plot([0, cn.real], [0, cn.imag],color='tab:blue')\n",
    "    ax.quiver(0,0, cn.real, cn.imag, angles='xy', scale_units='xy', scale=21)\n",
    "    \n",
    "ax.spines['top'].set_visible(False)\n",
    "ax.spines['right'].set_visible(False)\n",
    "ax.spines['bottom'].set_visible(False)\n",
    "ax.spines['left'].set_visible(False)\n",
    "\n",
    "ax.set_xlabel('Real',loc='right')\n",
    "ax.set_ylabel('Imaginary',loc='top')\n",
    "ax.set_xticks([],[])\n",
    "ax.set_yticks([],[])\n",
    "\n",
    "plt.axhline(y=0, color='k',alpha=0.3)\n",
    "plt.axvline(x=0, color='k',alpha=0.3)\n",
    "# plt.grid(True, alpha=0.4, which='both')\n",
    "plt.axis('equal')\n",
    "plt.show()"
   ]
  },
  {
   "cell_type": "markdown",
   "id": "b5e546c2",
   "metadata": {},
   "source": [
    "O vetor com as frequências é simétrico. Nesse sentido, estamos interessados somente nas frequências positivas"
   ]
  },
  {
   "cell_type": "code",
   "execution_count": null,
   "id": "3008bfd7",
   "metadata": {},
   "outputs": [],
   "source": [
    "# Calcula as frequências correspondnetes a cada índice do vetor da DFT\n",
    "frequencies = fftfreq(x.size, 1/sr)[:x.size//2]"
   ]
  },
  {
   "cell_type": "code",
   "execution_count": null,
   "id": "aaf5ae97",
   "metadata": {},
   "outputs": [],
   "source": [
    "# Magnitudes of the Fourier coefficients\n",
    "magnitudes = 2.0/(x.size) * np.abs(fourier_transform[:x.size//2])"
   ]
  },
  {
   "cell_type": "markdown",
   "id": "e9867cbe",
   "metadata": {},
   "source": [
    "* <b>Analyze the Frequency Spectrum</b>: Examine the resulting frequency spectrum to identify the dominant frequency components."
   ]
  },
  {
   "cell_type": "markdown",
   "id": "f347425c",
   "metadata": {},
   "source": [
    "```python\n",
    "gridspec_kw={'height_ratios': [2, 3]}\n",
    "```"
   ]
  },
  {
   "cell_type": "code",
   "execution_count": null,
   "id": "eefb93fe",
   "metadata": {},
   "outputs": [],
   "source": [
    "# Maior frequência\n",
    "a_high = max(magnitudes)\n",
    "f_high = frequencies[np.where(magnitudes == a_high)[0][0]]"
   ]
  },
  {
   "cell_type": "code",
   "execution_count": null,
   "id": "c4bf081b",
   "metadata": {},
   "outputs": [],
   "source": [
    "fig, (ax1,ax2) = plt.subplots(2,1,figsize=(12, 6),layout='constrained',sharey=True)\n",
    "\n",
    "ax1.plot(frequencies, magnitudes, color='tab:blue')\n",
    "ax1.grid(True, alpha=0.4,ls='--')\n",
    "ax1.set_xlim(0,)\n",
    "\n",
    "ax2.plot(frequencies, magnitudes, color='tab:blue',alpha=0.3)\n",
    "ax2.vlines(x=f_high,ymin=0,ymax=a_high,color='tab:red',ls='--',lw=2)\n",
    "ax2.set_xlabel('Frequencies (Hz)',loc='right')\n",
    "ax2.set_ylim(0, )\n",
    "ax2.set_xlim(0, 2000)\n",
    "ax2.grid(True, alpha=0.4,ls='--')\n",
    "ax2.text(f_high,-0.002,'$f_{MAX}$',color='tab:red')\n",
    "\n",
    "plt.show()"
   ]
  },
  {
   "cell_type": "markdown",
   "id": "33eaa582",
   "metadata": {},
   "source": [
    "> Como esperado, a frequência de maior intensidade é aproximadamente igual a 98Hz\n",
    "\n",
    "> Da figura acima, é possivel notar que as frequências de maiores intensidades estão abaixo de 1.5kHz"
   ]
  },
  {
   "cell_type": "markdown",
   "id": "72ffd66a",
   "metadata": {},
   "source": [
    "### Identificando as maiores componentes de frequência"
   ]
  },
  {
   "cell_type": "code",
   "execution_count": null,
   "id": "4e2dfc67",
   "metadata": {},
   "outputs": [],
   "source": [
    "# Identify the top n frequencies\n",
    "top_n = 10\n",
    "indices = np.argsort(magnitudes)[-top_n:]"
   ]
  },
  {
   "cell_type": "code",
   "execution_count": null,
   "id": "1c4d2069",
   "metadata": {},
   "outputs": [],
   "source": [
    "# Extract the top n frequency components\n",
    "top_frequencies = frequencies[indices]\n",
    "top_magnitudes = magnitudes[indices]"
   ]
  },
  {
   "cell_type": "code",
   "execution_count": null,
   "id": "f28637bc",
   "metadata": {},
   "outputs": [],
   "source": [
    "# Print the top n frequency components\n",
    "for i in range(top_n):\n",
    "    print(f\"Frequency: {top_frequencies[i]:.2f} Hz, Magnitude: {top_magnitudes[i]:.2f}\")"
   ]
  },
  {
   "cell_type": "code",
   "execution_count": null,
   "id": "605cf0f6",
   "metadata": {},
   "outputs": [],
   "source": [
    "# Criando harmônicos com as frequências dominantes\n",
    "t = np.linspace(0, 1*(1/min(top_frequencies)),1000)\n",
    "harmonicos = []\n",
    "for f,a in zip(top_frequencies, top_magnitudes):\n",
    "    harmonico = a*np.sin(2*np.pi*f*t)\n",
    "    harmonicos.append(harmonico)"
   ]
  },
  {
   "cell_type": "code",
   "execution_count": null,
   "id": "b76c7612",
   "metadata": {},
   "outputs": [],
   "source": [
    "opacidades = [x/max(top_frequencies) for x in top_frequencies]\n",
    "opacidades.sort(reverse=True)"
   ]
  },
  {
   "cell_type": "code",
   "execution_count": null,
   "id": "e41c1953",
   "metadata": {},
   "outputs": [],
   "source": [
    "fig = plt.figure(figsize=(12, 6))\n",
    "\n",
    "ax1 = plt.subplot()\n",
    "for i, harmonico in enumerate(harmonicos):\n",
    "#     color = colormap(color_indices[i])\n",
    "    ax1.plot(t, harmonico,color='tab:blue',alpha=opacidades[i])\n",
    "\n",
    "plt.grid(True, alpha=0.4,ls='--')\n",
    "plt.xlim(0,)\n",
    "plt.show()"
   ]
  },
  {
   "cell_type": "markdown",
   "id": "71745099",
   "metadata": {},
   "source": [
    "### 2.1 Removendo a região de silêncio\n",
    "A partir da visualização acima, é possível notar que há regiões onde as amplitudes são muito baixas (praticamente nulas). Essas regiões caracterizam o que chamamos de silêncio (ausência do som) e não são do nosso interesse, por isso, iremos remové-las usando a função `effects.trim`"
   ]
  },
  {
   "cell_type": "markdown",
   "id": "c1c2da46",
   "metadata": {},
   "source": [
    "$$\n",
    "1 \\text{dB} = 10\\log \\left(\\frac{P_{out}}{P_{in}}\\right )\n",
    "$$"
   ]
  },
  {
   "cell_type": "code",
   "execution_count": null,
   "id": "ea1ae35d",
   "metadata": {},
   "outputs": [],
   "source": [
    "# Sinal de audio sem as regiões de silêncio\n",
    "x_trimmed, index_x = librosa.effects.trim(x,top_db=20)\n",
    "\n",
    "tempo_trimmed = tempo[index_x[0]:index_x[1]]"
   ]
  },
  {
   "cell_type": "code",
   "execution_count": null,
   "id": "3e702585",
   "metadata": {},
   "outputs": [],
   "source": [
    "fig = plt.figure(figsize=(12, 6))\n",
    "\n",
    "grid = GridSpec(2, 2, figure=fig)\n",
    "\n",
    "ax1 = plt.subplot(grid[:, 0])\n",
    "ax2 = plt.subplot(grid[0, 1],sharey=ax1)\n",
    "ax3 = plt.subplot(grid[1, 1],sharey=ax1)\n",
    "axs = (ax1,ax2,ax3)\n",
    "\n",
    "x_lim_ax1 = (min(tempo_trimmed),max(tempo_trimmed))\n",
    "x_lim_ax2 = (1.6,1.8)\n",
    "x_lim_ax3 = (1.625,1.630)\n",
    "\n",
    "x_lims = x_lim_ax1, x_lim_ax2, x_lim_ax3\n",
    "\n",
    "for i,ax in enumerate(axs):\n",
    "    ax.plot(tempo_trimmed,x_trimmed,color='tab:blue')\n",
    "    ax.minorticks_on()\n",
    "    ax.tick_params(axis='x', top=True, which='both')\n",
    "    ax.grid(True, alpha=0.4,ls='--')\n",
    "    ax.set_xlim(x_lims[i])\n",
    "    \n",
    "plt.show()"
   ]
  },
  {
   "cell_type": "markdown",
   "id": "22dc2e06",
   "metadata": {},
   "source": [
    "### Aplicando a transformada de Fourier a uma janela pequena"
   ]
  },
  {
   "cell_type": "code",
   "execution_count": null,
   "id": "76f04735",
   "metadata": {},
   "outputs": [],
   "source": [
    "tempo_janela = np.where((tempo_trimmed >= 1.625) & (tempo_trimmed <= 1.630))"
   ]
  },
  {
   "cell_type": "code",
   "execution_count": null,
   "id": "b6e4007b",
   "metadata": {},
   "outputs": [],
   "source": [
    "x_janela = x[tempo_janela]"
   ]
  },
  {
   "cell_type": "code",
   "execution_count": null,
   "id": "3bed8282",
   "metadata": {},
   "outputs": [],
   "source": [
    "# Realiza a DFT no sinal\n",
    "fourier_transform = fft(x_janela)\n",
    "\n",
    "# Calcula as frequências correspondnetes a cada índice do vetor da DFT\n",
    "frequencies = fftfreq(x_janela.size, 1/sr)[:x_janela.size//2]\n",
    "\n",
    "# Magnitudes of the Fourier coefficients\n",
    "magnitudes = 2.0/(x_janela.size) * np.abs(fourier_transform[:x_janela.size//2])"
   ]
  },
  {
   "cell_type": "code",
   "execution_count": null,
   "id": "756a52c5",
   "metadata": {},
   "outputs": [],
   "source": [
    "# Identify the top n frequencies\n",
    "top_n = 5\n",
    "indices = np.argsort(magnitudes)[-top_n:]"
   ]
  },
  {
   "cell_type": "code",
   "execution_count": null,
   "id": "0c638a46",
   "metadata": {},
   "outputs": [],
   "source": [
    "# Extract the top n frequency components\n",
    "top_frequencies = frequencies[indices]\n",
    "top_magnitudes = magnitudes[indices]"
   ]
  },
  {
   "cell_type": "code",
   "execution_count": null,
   "id": "9960fb81",
   "metadata": {},
   "outputs": [],
   "source": [
    "# Print the top n frequency components\n",
    "for i in range(top_n):\n",
    "    print(f\"Frequency: {top_frequencies[i]:.5f} Hz, Magnitude: {top_magnitudes[i]:.5f}\")"
   ]
  },
  {
   "cell_type": "code",
   "execution_count": null,
   "id": "c1b8c20a",
   "metadata": {},
   "outputs": [],
   "source": [
    "# Criando harmônicos com as frequências dominantes\n",
    "t = np.linspace(min(tempo_janela[0]), max(tempo_janela[0]),100)\n",
    "harmonicos = []\n",
    "for f,a in zip(top_frequencies, top_magnitudes):\n",
    "    harmonico = a*np.sin(2*np.pi*f*t)\n",
    "    harmonicos.append(harmonico)"
   ]
  },
  {
   "cell_type": "code",
   "execution_count": null,
   "id": "af913ab6",
   "metadata": {},
   "outputs": [],
   "source": [
    "opacidades = [x/max(top_frequencies) for x in top_frequencies]\n",
    "opacidades.sort(reverse=True)"
   ]
  },
  {
   "cell_type": "code",
   "execution_count": null,
   "id": "5f82bcd2",
   "metadata": {},
   "outputs": [],
   "source": [
    "fig = plt.figure(figsize=(12, 6))\n",
    "\n",
    "ax1 = plt.subplot()\n",
    "ax1.plot(tempo_janela[0],x[tempo_janela],color='k')\n",
    "for i, harmonico in enumerate(harmonicos):\n",
    "    ax1.plot(t, harmonico,color='tab:blue',alpha=opacidades[i])\n",
    "\n",
    "plt.grid(True, alpha=0.4,ls='--')\n",
    "# plt.xlim(0,)\n",
    "plt.show()"
   ]
  }
 ],
 "metadata": {
  "kernelspec": {
   "display_name": "Python 3 (ipykernel)",
   "language": "python",
   "name": "python3"
  },
  "language_info": {
   "codemirror_mode": {
    "name": "ipython",
    "version": 3
   },
   "file_extension": ".py",
   "mimetype": "text/x-python",
   "name": "python",
   "nbconvert_exporter": "python",
   "pygments_lexer": "ipython3",
   "version": "3.11.3"
  }
 },
 "nbformat": 4,
 "nbformat_minor": 5
}
