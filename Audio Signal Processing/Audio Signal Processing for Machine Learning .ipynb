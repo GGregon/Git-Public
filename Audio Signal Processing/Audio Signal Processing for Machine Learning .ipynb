{
 "cells": [
  {
   "cell_type": "markdown",
   "id": "b68e6e1c",
   "metadata": {},
   "source": [
    "# Notas do curso de Processamento de Sinais de Audio para Machine Learning"
   ]
  },
  {
   "cell_type": "markdown",
   "id": "f044432d",
   "metadata": {},
   "source": [
    "<i>Valerio Velardo - The Sound of AI<i><br>\n",
    "https://www.youtube.com/@ValerioVelardoTheSoundofAI"
   ]
  },
  {
   "cell_type": "markdown",
   "id": "4d0c3485",
   "metadata": {},
   "source": [
    "## 1. Audio Signal Processing for Machine Learning\n",
    "[Lecture Video Link](https://www.youtube.com/watch?v=iCwMQJnKk2c&list=PL-wATfeyAMNqIee7cH3q1bh4QJFAaeNv0&index=1)"
   ]
  },
  {
   "cell_type": "markdown",
   "id": "970b4635",
   "metadata": {},
   "source": [
    "Aplicações\n",
    "* Classificação de audio\n",
    "* Reconhecimento de fala/verificação de fala\n",
    "* Remoção de ruido e super amostragem <i>(upsampling?)</i>\n",
    "* Obtenção de informações sobre músicas (Music Information Retrieval)\n",
    "    * Music Instrument Classification\n",
    "    * Mood classification"
   ]
  },
  {
   "cell_type": "markdown",
   "id": "9b8f185f",
   "metadata": {},
   "source": [
    "Conteúdo\n",
    "* Ondas sonoras\n",
    "* DAC/ADC\n",
    "* Características do audio no domínio do tempo e frequência (rms, centroide spectral)\n",
    "* Transformações de audio\n",
    "    * Transformada de Fourier/STFT\n",
    "    * Transformação Q-Constante \n",
    "    * Espectrogramas de Mel\n",
    "    * Cromogramas (Chromograms)"
   ]
  },
  {
   "cell_type": "markdown",
   "id": "92adcca2",
   "metadata": {},
   "source": [
    "## 2. Sound and Waveforms\n",
    "[Lecture Video Link](https://www.youtube.com/watch?v=bnHHVo3j124&list=PL-wATfeyAMNqIee7cH3q1bh4QJFAaeNv0&index=2)         "
   ]
  },
  {
   "cell_type": "markdown",
   "id": "39c8106b",
   "metadata": {},
   "source": [
    "Propagação"
   ]
  },
  {
   "cell_type": "markdown",
   "id": "f186f9a5",
   "metadata": {},
   "source": [
    "<center>\n",
    "<img src='.\\Images\\Captura de tela 2024-06-03 172435.png' width=500>\n",
    "</center>"
   ]
  },
  {
   "cell_type": "markdown",
   "id": "1ca35978",
   "metadata": {},
   "source": [
    "Forma de onda (Waveform)\n",
    "\n",
    "<center>\n",
    "<img src='.\\Images\\Captura de tela 2024-06-03 172536.png' width=500>\n",
    "</center>\n",
    "\n",
    "* Frequencia\n",
    "* Intensidade\n",
    "* Timbre"
   ]
  },
  {
   "cell_type": "markdown",
   "id": "6f9d642c",
   "metadata": {},
   "source": [
    "Pitch - Percepção da frequência ouvida\n",
    "* Percepção logaritimica\n",
    "* Duas frequências são percebidas como similares se elas diferem por uma potência de 2. Isto é, não percebemos o som numa escala linear, mas logarítimica (conceito de oitava?)\n",
    "\n",
    "Pitch-Frequency Chart\n",
    "\n",
    "Mapeando pitch em frequência\n",
    "$$\n",
    "F(p) = 2^{\\frac{p-69}{12}}\\cdot 440\n",
    "$$"
   ]
  },
  {
   "cell_type": "markdown",
   "id": "15124cdd",
   "metadata": {},
   "source": [
    "## 3. Intensity, Loudness and Timbre\n",
    "[Lecture Video Link](https://www.youtube.com/watch?v=Jkoysm1fHUw&list=PL-wATfeyAMNqIee7cH3q1bh4QJFAaeNv0&index=3)"
   ]
  },
  {
   "cell_type": "markdown",
   "id": "60eb9abf",
   "metadata": {},
   "source": [
    "<b>Sound Power</b>\n",
    "* Taxa com qual energia sonora (mecânica) é transferida\n",
    "* Energia por unidade de tempo emitida por uma fonte sonora em todas as direções\n",
    "* Medida em watt (W)"
   ]
  },
  {
   "cell_type": "markdown",
   "id": "69522f7d",
   "metadata": {},
   "source": [
    "<b>Sound Intensity</b>\n",
    "* Taxa de energia sonora por unidade de área\n",
    "* Medida em W/m2"
   ]
  },
  {
   "cell_type": "markdown",
   "id": "2a9702ed",
   "metadata": {},
   "source": [
    "<b>Threshold of hearing</b>\n",
    "* Seres humanos conseguem perceber sons de baixissima intensidade\n",
    "$$\n",
    "TOH = 10^{-12}W/m^2\n",
    "$$\n",
    "\n",
    "<b>Threshold of pain</b>\n",
    "$$\n",
    "TOP = 10W/m^2\n",
    "$$\n",
    "\n",
    "> Essa diferença de percepções é tão grande (13 ordens de grandeza), justifica o fato de usarmos escalas logaritimicas."
   ]
  },
  {
   "cell_type": "markdown",
   "id": "85b909b3",
   "metadata": {},
   "source": [
    "<b>Niveis de Intensidade</b>\n",
    "* Escala logaritimica\n",
    "* Medida em decibels (dB)\n",
    "* Razão entre dois valores de intensidade\n",
    "* Usa a TOC de referência"
   ]
  },
  {
   "cell_type": "markdown",
   "id": "17fcd749",
   "metadata": {},
   "source": [
    "$$\n",
    "\\text{db}(I) = 10\\cdot \\log_{10}\\left(\\frac{I}{I_{TOH}}\\right)\n",
    "$$\n",
    "\n",
    "> O que seria 0db? É quando $I=I_{TOH}$"
   ]
  },
  {
   "cell_type": "markdown",
   "id": "2a0aefe2",
   "metadata": {},
   "source": [
    "A cada ~3dB, a intensidade dobra (verificar)"
   ]
  },
  {
   "cell_type": "markdown",
   "id": "a8d03283",
   "metadata": {},
   "source": [
    "<center>\n",
    "<img src='.\\Images\\Captura de tela 2024-06-03 175104.png' width=500>\n",
    "</center>"
   ]
  },
  {
   "cell_type": "markdown",
   "id": "7aa05140",
   "metadata": {},
   "source": [
    "<b>Loudness (altura)</b>\n",
    "* Percepção subjetiva da intensidade do som\n",
    "* Depende da duração/frequência do som\n",
    "* Depende da idade\n",
    "* Medida em <i>phons</i>"
   ]
  },
  {
   "cell_type": "markdown",
   "id": "9e20bbd5",
   "metadata": {},
   "source": [
    "<center>\n",
    "<img src='.\\Images\\Captura de tela 2024-06-03 175458.png' width=500>\n",
    "</center>"
   ]
  },
  {
   "cell_type": "markdown",
   "id": "2d1aa6bb",
   "metadata": {},
   "source": [
    "<b>Timbre</b>\n",
    "* Cor do som - não há uma definição técnica\n",
    "* Diferença entre dois sons com as mesmas características - intensidade, frequencia e duração\n",
    "* Descrito por palavras como: bright, dark, dull, harsh e warm\n",
    "* É multidimensional\n",
    "    * Sound envelop\n",
    "        * Attack-Decay-Sustain-Release Model\n",
    "    <center>\n",
    "    <img src='.\\Images\\Captura de tela 2024-06-03 175913.png' width=500>\n",
    "    </center>\n",
    "    \n",
    "    <center>\n",
    "    <img src='.\\Images\\Captura de tela 2024-06-03 180123.png' width=500>\n",
    "    </center>\n",
    "    \n",
    "    * Harmonic content\n",
    "    * Amplitude/frequency modulation"
   ]
  },
  {
   "cell_type": "markdown",
   "id": "b017cfc8",
   "metadata": {},
   "source": [
    "## 4. Understanding Audio Signals for Machine Learning\n",
    "[Lecture Video Link](https://www.youtube.com/watch?v=daB9naGBVv4&list=PL-wATfeyAMNqIee7cH3q1bh4QJFAaeNv0&index=4)"
   ]
  },
  {
   "cell_type": "markdown",
   "id": "97af2c31",
   "metadata": {},
   "source": [
    "<b>Analog signal</b>\n",
    "* Continuous values for time\n",
    "* Continuous values for amplitude"
   ]
  },
  {
   "cell_type": "markdown",
   "id": "be3a260e",
   "metadata": {},
   "source": [
    "<b>Digital signal</b>\n",
    "* Sequence of discrete values\n",
    "* Data points can only take on a finite number of values"
   ]
  },
  {
   "cell_type": "markdown",
   "id": "8b7e0c34",
   "metadata": {},
   "source": [
    "#### Sampling rate\n",
    "$$\n",
    "f_s = \\frac{1}{T_s}\n",
    "$$"
   ]
  },
  {
   "cell_type": "markdown",
   "id": "d1a93c56",
   "metadata": {},
   "source": [
    "#### Nyquist frequency\n",
    "$$\n",
    "f_N = \\frac{s_r}{2}\n",
    "$$\n",
    "\n",
    "Para CD's, obtemos:\n",
    "$$\n",
    "f_N = \\frac{44100}{2} = 22050Hz\n",
    "$$\n",
    ">  Proximo ao limite superior audivel $\\approx 22KHz$"
   ]
  },
  {
   "cell_type": "markdown",
   "id": "65dadbf8",
   "metadata": {},
   "source": [
    "#### Aliasing"
   ]
  },
  {
   "cell_type": "markdown",
   "id": "d1b6eb3d",
   "metadata": {},
   "source": [
    "#### Quantização"
   ]
  }
 ],
 "metadata": {
  "kernelspec": {
   "display_name": "Python 3 (ipykernel)",
   "language": "python",
   "name": "python3"
  },
  "language_info": {
   "codemirror_mode": {
    "name": "ipython",
    "version": 3
   },
   "file_extension": ".py",
   "mimetype": "text/x-python",
   "name": "python",
   "nbconvert_exporter": "python",
   "pygments_lexer": "ipython3",
   "version": "3.11.3"
  }
 },
 "nbformat": 4,
 "nbformat_minor": 5
}
