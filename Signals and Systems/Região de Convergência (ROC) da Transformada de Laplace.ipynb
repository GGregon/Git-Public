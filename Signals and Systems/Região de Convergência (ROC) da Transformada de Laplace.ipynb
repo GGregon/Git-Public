{
 "cells": [
  {
   "cell_type": "code",
   "execution_count": null,
   "id": "30b658c3-fa91-44a7-92b5-ac6c010da878",
   "metadata": {},
   "outputs": [],
   "source": [
    "plt.style.use('ggstyle.mplstyle')"
   ]
  },
  {
   "cell_type": "markdown",
   "id": "18bbe0d8",
   "metadata": {},
   "source": [
    "\n",
    "# Motivação\n",
    "\n",
    "É bastante comum nos depararmos com literaturas que enunciam a transformada de Fourier como um caso particular da transformada de Laplace. Além disso, também é como que essa ferramenta seja vista primeiro, de modo que é mais natural operar sob o domínio $s$.\n",
    "\n",
    "Por extensão, é bastante razoável, em problemas envolvendo análise espectral de frequências de sinais, que operemos sobre o dominio de Laplace e somente no final, façamos a substituição (afinal, é um caso particular) $s=j\\omega$.\n",
    "\n",
    "Esse breve notebook tem como objetivo relembrar algumas definições e restrições sobre a transformada de Laplace $\\mathcal{L}$ e evidenciar problemas que surgem ao realizar a substiuição sugerida para o cálculo da transformada de Fourier $\\mathcal{F}$ de alguns sinais elementares."
   ]
  },
  {
   "cell_type": "markdown",
   "id": "79bbe565",
   "metadata": {},
   "source": [
    "* $f(t) = e^{-\\alpha t} u(t)$ para  $\\alpha > 0$\n",
    "\n",
    "Calculemos a transformada de Laplace $\\mathcal{L}$ da função acima como:\n",
    "$$\n",
    "F(s)=\\int_{-\\infty}^{\\infty} e^{-\\alpha t} u(t) e^{-st}dt\n",
    "$$\n",
    "\n",
    "O efeito prático da multiplicação da exponencial do degrau é simplesmente zerar todos os valores em $t<0$. Em outras palavras, torna a transformada bilateral em unilateral.\n",
    "\n",
    "$$\n",
    "F(s)=\\int_{0}^{\\infty} e^{-(\\alpha+s) t}dt\n",
    "$$\n",
    "\n",
    "$$\n",
    "F(s)=-\\frac{1}{(\\alpha+s)} \\left[e^{-(\\alpha+s)t} \\right ]_{0}^{\\infty}\n",
    "$$"
   ]
  },
  {
   "cell_type": "markdown",
   "id": "a99a5d5c",
   "metadata": {},
   "source": [
    "A integral acima convirgirá somente se $-(\\alpha+s) < 0$. Essa condição implica dizer que a região de convergência (ROC), consiste no <b>semi-plano lateral à direita </b> da reta $s=-\\alpha$. Consequentemente,\n",
    "\n",
    "$$\n",
    "s>-\\alpha \\longrightarrow \\sigma + j\\omega > -\\alpha + 0j\n",
    "$$\n",
    "\n",
    "$$\n",
    "\\sigma > -\\alpha\n",
    "$$\n",
    "\n",
    "Assim,\n",
    "\n",
    "$$\n",
    "F(s)=\\frac{1}{(\\alpha+s)}\n",
    "$$"
   ]
  },
  {
   "cell_type": "markdown",
   "id": "1eee4d45",
   "metadata": {},
   "source": [
    "<center>\n",
    "<img src=.\\Images\\ROC_exp.png width=800>\n",
    "</center>"
   ]
  },
  {
   "cell_type": "markdown",
   "id": "e7260af3",
   "metadata": {},
   "source": [
    "> **Nota:** A região de convergência acima compreende a reta $s=j\\omega$"
   ]
  },
  {
   "cell_type": "markdown",
   "id": "09f02e9c",
   "metadata": {},
   "source": [
    "* $f(t) = \\sin({\\omega_0 t}) \\cdot u(t)$ para  $\\omega_0 > 0$\n",
    "\n",
    "Calculemos a transformada de Laplace $\\mathcal{L}$ da função acima como:\n",
    "$$\n",
    "F(s)=\\int_{-\\infty}^{\\infty} \\sin({\\omega_0 t})\\cdot u(t) \\cdot e^{-st}dt\n",
    "$$\n",
    "\n",
    "O efeito prático da multiplicação da exponencial do degrau é simplesmente zerar todos os valores em $t<0$. Em outras palavras, torna a transformada bilateral em unilateral.\n",
    "\n",
    "$$\n",
    "F(s)=\\int_{0}^{\\infty} \\sin({\\omega_0 t}) e^{-st}dt\n",
    "$$\n",
    "\n",
    "Usando a fórmula de Euler, podemos reescrever o integrando da seguinte maneira:\n",
    "\n",
    "$$\n",
    "\\sin(\\omega_0 t) = \\frac{e^{j\\omega_0 t} - e^{-j\\omega_0 t}}{2j}\n",
    "$$\n",
    "\n",
    "Substituindo\n",
    "\n",
    "$$\n",
    "F(s)=\\int_{0}^{\\infty} \\left [\\frac{e^{j\\omega_0 t} - e^{-j\\omega_0 t}}{2j}\\right ] e^{-st}dt \n",
    "$$\n",
    "\n",
    "Reorganizando os termos, ficamos com:\n",
    "\n",
    "$$\n",
    "F(s)= \\frac{1}{2j} \\int_{0}^{\\infty} e^{(j\\omega_0 -s)t}dt - \\frac{1}{2j} \\int_{0}^{\\infty} e^{(-j\\omega_0 -s)t}dt \n",
    "$$"
   ]
  },
  {
   "cell_type": "markdown",
   "id": "a13f34f7",
   "metadata": {},
   "source": [
    "As integrais acima convirgirão somente se $-(j\\omega_0-s) < 0$.\n",
    "\n",
    "$$\n",
    "-(j\\omega_0-s) < 0 \\therefore s < j\\omega_0\n",
    "$$\n",
    "\n",
    "Essa condição implica dizer que a região de convergência (ROC), consiste no <b>semi-plano superior abaixo </b> da reta $s=\\omega_0$. Consequentemente,\n",
    "\n",
    "$$\n",
    "s < j\\omega_0 \\Rightarrow \\sigma + j\\omega < j\\omega_0\n",
    "$$\n",
    "\n",
    "$$\n",
    "\\omega_0 > \\omega\n",
    "$$\n",
    "\n",
    "> A condição para convergência da segunda integral é implicitamente atendida uma vez que $\\omega_0>\\omega$"
   ]
  },
  {
   "cell_type": "markdown",
   "id": "c432d79d",
   "metadata": {},
   "source": [
    "Assim,\n",
    "\n",
    "$$\n",
    "F(s)=\\frac{\\omega_0}{s^2 + \\omega_0^2}\n",
    "$$"
   ]
  },
  {
   "cell_type": "markdown",
   "id": "06b0d488",
   "metadata": {},
   "source": [
    "<center>\n",
    "<img src=.\\Images\\ROC_sin.png width=800>\n",
    "</center>"
   ]
  },
  {
   "cell_type": "markdown",
   "id": "89dc6cd7",
   "metadata": {},
   "source": [
    "> **Nota:** A região de convergência acima <b>não compreende a reta $s=j\\omega$</b>"
   ]
  },
  {
   "cell_type": "markdown",
   "id": "0f00287a",
   "metadata": {},
   "source": [
    "# 2. Visualizações"
   ]
  },
  {
   "cell_type": "code",
   "execution_count": 2,
   "id": "eb98c164",
   "metadata": {},
   "outputs": [],
   "source": [
    "# Importando bibliotecas\n",
    "import matplotlib.pyplot as plt\n",
    "import numpy as np"
   ]
  },
  {
   "cell_type": "code",
   "execution_count": null,
   "id": "90f6ebe3",
   "metadata": {},
   "outputs": [],
   "source": [
    "plt.rcParams.update({\n",
    "    \"text.usetex\": True,\n",
    "    \"font.family\": \"latinmodern-math\",\n",
    "    \"text.latex.preamble\": r\"\\usepackage{amsmath}\",\n",
    "})"
   ]
  },
  {
   "cell_type": "code",
   "execution_count": null,
   "id": "1c9050bf",
   "metadata": {},
   "outputs": [],
   "source": [
    "plt.style.use('default')"
   ]
  },
  {
   "cell_type": "markdown",
   "id": "41a5c349",
   "metadata": {},
   "source": [
    "Visualizando o plano $s$"
   ]
  },
  {
   "cell_type": "code",
   "execution_count": null,
   "id": "bf2bef5c",
   "metadata": {},
   "outputs": [],
   "source": [
    "t = np.linspace(0,10,1000)\n",
    "seno = np.sin(t)\n",
    "exponencial = np.exp(-t/2)\n",
    "integrando = seno*exponencial"
   ]
  },
  {
   "cell_type": "code",
   "execution_count": null,
   "id": "3dbf35a2",
   "metadata": {},
   "outputs": [],
   "source": [
    "fig, (ax1,ax2,ax3) = plt.subplots(1,3,figsize=(12,4),dpi=300,sharey=True,sharex=True,gridspec_kw={'wspace': 0.05})\n",
    "\n",
    "ax1.plot(t,seno,label='$A\\sin \\omega_0 t$',color='tab:blue',alpha=0.5)\n",
    "ax1.set_yticks([-1,0,1],['$-A$','0','$A$'])\n",
    "ax1.set_title('Evolução das funções para $t \\ge 0$',loc='left')\n",
    "\n",
    "ax2.plot(t,exponencial,label='$e^{-st}$',color='tab:red')\n",
    "ax2.set_xlabel('$t$ (s)',ha='center',fontsize=14)\n",
    "\n",
    "ax3.plot(t,integrando,label='$A\\sin \\omega_0 t e^{-st}$',color='tab:blue')\n",
    "ax3.plot(t,exponencial,color='tab:red',ls='--',lw=1,alpha=0.3)\n",
    "ax3.plot(t,-exponencial,color='tab:red',ls='--',lw=1,alpha=0.3)\n",
    "\n",
    "for ax in (ax1,ax2,ax3):\n",
    "    ax.minorticks_on()\n",
    "    ax.tick_params(axis='x',which='both',top=True)\n",
    "#     ax.spines['left'].set_visible(False)\n",
    "#     ax.spines['right'].set_visible(False)\n",
    "#     ax.spines['top'].set_visible(False)\n",
    "#     ax.spines['bottom'].set_visible(False)\n",
    "#     ax.axes.set_axis_off()\n",
    "    ax.set_xticklabels([])\n",
    "    ax.grid(True,alpha=0.2)\n",
    "    ax.set_ylim(-1.5,1.5)\n",
    "    ax.legend(fancybox=False,edgecolor='k',fontsize=12)\n",
    "    "
   ]
  },
  {
   "cell_type": "code",
   "execution_count": null,
   "id": "7117bb61",
   "metadata": {},
   "outputs": [],
   "source": [
    "t = np.linspace(-4,10,1000)\n",
    "seno = np.sin(10*t)\n",
    "exponencial = np.exp(-t)\n",
    "integrando = seno*exponencial"
   ]
  },
  {
   "cell_type": "code",
   "execution_count": null,
   "id": "5f8ed201",
   "metadata": {},
   "outputs": [],
   "source": [
    "fig, ax = plt.subplots(figsize=(12,4),dpi=300)\n",
    "\n",
    "ax.plot(t,seno,label='$A\\sin \\omega_0 t$',color='tab:blue',alpha=0.3)\n",
    "ax.plot(t,integrando,label='$A\\sin \\omega_0 t e^{-st}$',color='tab:blue')\n",
    "ax.scatter([0,0],[1,-1])\n",
    "ax.fill_between(t,integrando, color='tab:blue',alpha=0.2)\n",
    "ax.plot(t,exponencial,color='k',ls='--',lw=1,alpha=0.5)\n",
    "ax.plot(t,-exponencial,color='k',ls='--',lw=1,alpha=0.5)\n",
    "\n",
    "# ax.text(1,1,'$e^{-st}$',fontsize=16)\n",
    "# ax.text(1.1,-1,'$-e^{-st}$',fontsize=16)\n",
    "\n",
    "\n",
    "ax.set_xlabel('$t$ (s)',ha='center',fontsize=14)\n",
    "ax.set_yticks([-1,0,1],['$-A$','0','$A$'],fontsize=14)\n",
    "ax.minorticks_on()\n",
    "ax.tick_params(axis='x',which='both',top=True)\n",
    "ax.set_xticklabels([])\n",
    "ax.grid(True,alpha=0.2)\n",
    "ax.set_ylim(-8,8)\n",
    "ax.set_xlim(-4,4)\n",
    "ax.axes.set_axis_off()\n",
    "# ax.legend(fancybox=False,edgecolor='k',fontsize=12,ncol=2)\n",
    "    "
   ]
  },
  {
   "cell_type": "code",
   "execution_count": null,
   "id": "f2dae0b8",
   "metadata": {},
   "outputs": [],
   "source": [
    "fig, ax = plt.subplots(figsize=(12,4),dpi=300)\n",
    "\n",
    "ax.plot(t,seno,label='$A\\sin \\omega_0 t$',color='tab:blue',alpha=0.3)\n",
    "ax.plot(t,integrando,label='$A\\sin \\omega_0 t e^{-st}$',color='tab:blue')\n",
    "ax.fill_between(t,integrando, color='tab:blue',alpha=0.2)\n",
    "ax.plot(t,exponencial,color='k',ls='--',lw=1,alpha=0.5)\n",
    "ax.plot(t,-exponencial,color='k',ls='--',lw=1,alpha=0.5)\n",
    "\n",
    "ax.text(1,1,'$e^{-st}$',fontsize=16)\n",
    "ax.text(1.1,-1,'$-e^{-st}$',fontsize=16)\n",
    "\n",
    "ax.set_xlabel('$t$ (s)',ha='center',fontsize=14)\n",
    "ax.set_yticks([-1,0,1],['$-A$','0','$A$'],fontsize=14)\n",
    "ax.minorticks_on()\n",
    "ax.tick_params(axis='x',which='both',top=True)\n",
    "ax.set_xticklabels([])\n",
    "ax.grid(True,alpha=0.2)\n",
    "ax.set_ylim(-1.5,1.5)\n",
    "ax.set_xlim(0,)\n",
    "ax.legend(fancybox=False,edgecolor='k',fontsize=12,ncol=2)\n",
    "    "
   ]
  },
  {
   "cell_type": "code",
   "execution_count": null,
   "id": "f31527b5",
   "metadata": {},
   "outputs": [],
   "source": [
    "from mpl_toolkits.mplot3d import Axes3D"
   ]
  },
  {
   "cell_type": "code",
   "execution_count": null,
   "id": "d69fad47",
   "metadata": {},
   "outputs": [],
   "source": [
    "t = np.linspace(0, 2*np.pi, 100)               # Tempo de 0 a 2pi\n",
    "x = np.cos(2*t)\n",
    "y = np.sin(2*t)\n",
    "z = t"
   ]
  },
  {
   "cell_type": "code",
   "execution_count": null,
   "id": "20b4b0a5",
   "metadata": {},
   "outputs": [],
   "source": [
    "# Create a new figure for the plot\n",
    "fig = plt.figure(figsize=(12,8),dpi=300)\n",
    "\n",
    "# Add a 3D subplot\n",
    "ax = fig.add_subplot(111, projection='3d')\n",
    "\n",
    "# Plot the 3D curve\n",
    "ax.plot(x, y, z,color='k')\n",
    "ax.scatter(x, y, z,color='k',s=20)\n",
    "\n",
    "# ax.plot(x, y, zs=0, zdir='z', label='curve in (x, y)',color='k',lw=2)\n",
    "# ax.plot(x, z, zs=0, zdir='y', label='curve in (x, z)',color='blue',lw=1)\n",
    "# ax.plot(y, z, zs=0, zdir='x', label='curve in (y, z)',color='blue',lw=1)\n",
    "\n",
    "\n",
    "ax.set_xticklabels([])\n",
    "ax.set_yticklabels([])\n",
    "ax.set_zticklabels([])\n",
    "\n",
    "# Add labels and title\n",
    "ax.set_ylim(-1,1)\n",
    "ax.set_xlim(-1,1)\n",
    "ax.set_xlabel('Re')\n",
    "ax.set_ylabel('Im')\n",
    "ax.set_zlabel('t')\n",
    "\n",
    "ax.grid(False)\n",
    "plt.axis('off')\n",
    "ax.view_init(elev=20, azim=-60,roll=0, vertical_axis='y') \n",
    "\n",
    "# Display the plot\n",
    "plt.show()"
   ]
  },
  {
   "cell_type": "code",
   "execution_count": null,
   "id": "7a7057e7",
   "metadata": {},
   "outputs": [],
   "source": [
    "w0 = 1\n",
    "w = np.linspace(0,2,1000)\n",
    "F = -w0/(w**2 - w0**2) "
   ]
  },
  {
   "cell_type": "code",
   "execution_count": null,
   "id": "ce1bbb00",
   "metadata": {},
   "outputs": [],
   "source": [
    "plt.plot(w,F)\n",
    "plt.grid(True,alpha=0.3)"
   ]
  }
 ],
 "metadata": {
  "kernelspec": {
   "display_name": "Python 3 (ipykernel)",
   "language": "python",
   "name": "python3"
  },
  "language_info": {
   "codemirror_mode": {
    "name": "ipython",
    "version": 3
   },
   "file_extension": ".py",
   "mimetype": "text/x-python",
   "name": "python",
   "nbconvert_exporter": "python",
   "pygments_lexer": "ipython3",
   "version": "3.11.7"
  }
 },
 "nbformat": 4,
 "nbformat_minor": 5
}
