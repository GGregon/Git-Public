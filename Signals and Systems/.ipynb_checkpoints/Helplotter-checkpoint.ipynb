{
 "cells": [
  {
   "cell_type": "markdown",
   "id": "3e40ee5c",
   "metadata": {},
   "source": [
    "## Importando pacotes e bibliotecas"
   ]
  },
  {
   "cell_type": "code",
   "execution_count": 1,
   "id": "a67a0cb3",
   "metadata": {},
   "outputs": [],
   "source": [
    "import numpy as np\n",
    "import random\n",
    "import matplotlib.pyplot as plt\n",
    "from matplotlib.gridspec import GridSpec\n",
    "from scipy import signal"
   ]
  },
  {
   "cell_type": "markdown",
   "id": "f5151a71",
   "metadata": {},
   "source": [
    "## Renderização de fórmulas e textos em LaTeX"
   ]
  },
  {
   "cell_type": "markdown",
   "id": "bd59cacc",
   "metadata": {},
   "source": [
    "```python\n",
    "plt.rcParams.update({\n",
    "    \"text.usetex\": True,\n",
    "    \"font.family\": \"latinmodern-math\",\n",
    "    \"text.latex.preamble\": r\"\\usepackage{amsmath}\",\n",
    "})\n",
    "```"
   ]
  },
  {
   "cell_type": "code",
   "execution_count": null,
   "id": "df88b0b3",
   "metadata": {},
   "outputs": [],
   "source": [
    "plt.rcParams.update({\n",
    "    \"text.usetex\": True,\n",
    "    \"font.family\": \"latinmodern-math\",\n",
    "    \"text.latex.preamble\": r\"\\usepackage{amsmath}\",\n",
    "})"
   ]
  },
  {
   "cell_type": "markdown",
   "id": "f2f5476a",
   "metadata": {},
   "source": [
    "## Criando figura e gráficos"
   ]
  },
  {
   "cell_type": "markdown",
   "id": "45123ede",
   "metadata": {},
   "source": [
    "Cria figura definindo sua dimensão, resolução e arrumação dos gráficos em seu interior."
   ]
  },
  {
   "cell_type": "markdown",
   "id": "893dbf7a",
   "metadata": {},
   "source": [
    "```python\n",
    "fig = plt.figure(figsize=(12, 7), dpi=200, layout='constrained', facecolor='k', edgecolor='b')\n",
    "```"
   ]
  },
  {
   "cell_type": "markdown",
   "id": "f1b97c0f",
   "metadata": {},
   "source": [
    "Cria uma grade para inserir os subplots dentro da figura"
   ]
  },
  {
   "cell_type": "markdown",
   "id": "2ba6a648",
   "metadata": {},
   "source": [
    "```python\n",
    "grid = GridSpec(nrows=2, ncols=1, figure=fig)\n",
    "```"
   ]
  },
  {
   "cell_type": "markdown",
   "id": "f58dc433",
   "metadata": {},
   "source": [
    "<b>Demais parâmetros</b>\n",
    "\n",
    "* `wspacefloat`\n",
    "A quantidade de largura reservada para o espaço entre os subplots, expressa como uma fração da largura média do eixo. Se não for fornecida, os valores serão inferidos a partir de uma figura ou rcParams quando necessário. \n",
    "\n",
    "* `hspacefloat`\n",
    "A quantidade de altura reservada para o espaço entre os subplots, expressa como uma fração da altura média do eixo. Se não for fornecida, os valores serão inferidos a partir de uma figura ou rcParams quando necessário. \n",
    "\n",
    "* `width_ratios`\n",
    "Define as larguras relativas das colunas. Cada coluna obtém uma largura relativa de width_ratios[i] / sum(width_ratios). Se não fornecido, todas as colunas terão a mesma largura.\n",
    "\n",
    "* `height_ratios`\n",
    "Define as alturas relativas das linhas. Cada linha obtém uma altura relativa de height_ratios[i] / sum(height_ratios). Se não fornecido, todas as linhas terão a mesma altura."
   ]
  },
  {
   "cell_type": "code",
   "execution_count": null,
   "id": "18ae701b",
   "metadata": {},
   "outputs": [],
   "source": [
    "fig = plt.figure(figsize=(12, 7), dpi=200, layout='constrained')\n",
    "grid = GridSpec(2, 1, figure=fig)\n",
    "\n",
    "ax1 = plt.subplot(grid[0, 0])\n",
    "ax2 = plt.subplot(grid[1, 0], sharex=ax1)\n",
    "\n",
    "line1 = criar_grafico(ax1, t, x1, r'$X(t)$', 'Tempo ($t$)', r'$X(t)$', 'Sinal $X(t)$ variando com o tempo', minorticks_on=True)\n",
    "line2 = criar_grafico(ax2, t, x2, r'$X(t,\\theta)$', 'Tempo ($t$)', r'$X(t)$', r'Sinal $X(t,\\theta)$ variando com o tempo e fase', minorticks_on=True)\n",
    "\n",
    "line1.set_alpha(0.5)\n",
    "\n",
    "plt.show()"
   ]
  },
  {
   "cell_type": "markdown",
   "id": "8bb7813a",
   "metadata": {},
   "source": [
    "Agora, vamos colocar os dois sinais sobrepostos."
   ]
  },
  {
   "cell_type": "code",
   "execution_count": null,
   "id": "301e219d",
   "metadata": {},
   "outputs": [],
   "source": [
    "fig = plt.figure(figsize=(12, 4), dpi=200, layout='constrained')\n",
    "\n",
    "ax0 = plt.subplot()\n",
    "\n",
    "line1 = criar_grafico(ax0, t, x1, label=r'$X(t)$')\n",
    "line2 = criar_grafico(ax0, t, x2, label=r'$X(t,\\theta)$', color='tab:pink', xlabel='Tempo ($t$)', ylabel='Amplitude', title='Sinal $X(t)$ variando com o tempo', minorticks_on=True)\n",
    "\n",
    "plt.show()"
   ]
  },
  {
   "cell_type": "markdown",
   "id": "7a9c2a63",
   "metadata": {},
   "source": [
    "Vamos considerar uma familia de sinais aleatórios. Isto é, vamos considerar diversos sinais com $\\theta$ diferentes"
   ]
  },
  {
   "cell_type": "code",
   "execution_count": null,
   "id": "7160723b",
   "metadata": {},
   "outputs": [],
   "source": [
    "random.seed(42)\n",
    "\n",
    "fig = plt.figure(figsize=(12, 4),dpi=200)\n",
    "ax0 = plt.subplot()\n",
    "cmap = plt.get_cmap('GnBu')\n",
    "freq = 0.5\n",
    "soma_t1, soma_t2 = 0,0\n",
    "\n",
    "for i in range(1,6):\n",
    "    \n",
    "    # Cria os sinais\n",
    "    theta = np.random.uniform(0, 2*np.pi)\n",
    "    \n",
    "    x_var = X(t, A, freq, theta)\n",
    "    t1, t2 = (0.3, 3.6)\n",
    "    x_t1 = X(t1, A, freq, theta)\n",
    "    x_t2 = X(t2, A, freq, theta)\n",
    "    \n",
    "    # Cria o gráfico\n",
    "    sinal_aleatorio = criar_grafico(ax0, t, x_var, color=cmap(i/5),label=f'$X(s_{i})$')\n",
    "    sinal_aleatorio.set_alpha(1-(i/6))\n",
    "    \n",
    "    # Marca as variáveis aleatórias para t=1\n",
    "    ax0.scatter(x=t1,y=x_t1,color='k')\n",
    "    ax0.text(t1+0.1,x_t1,f'$X_1({i})$', fontsize=12)\n",
    "    \n",
    "    # Marca as variáveis aleatórias para t=4\n",
    "    ax0.scatter(x=t2,y=x_t2,color='k')\n",
    "    ax0.text(t2+0.1,x_t2,f'$X_4({i})$', fontsize=12)\n",
    "    \n",
    "    soma_t1 += x_t1\n",
    "    soma_t2 += x_t2\n",
    "\n",
    "ax0.set_xlim(0,)\n",
    "ax0.set_xlabel('Tempo ($t$)')\n",
    "ax0.set_ylabel('Amplitude')\n",
    "ax0.set_title('Processo aleatório $X(t)$')\n",
    "ax0.minorticks_on()\n",
    "\n",
    "reta_vertical = ax0.vlines(x=t1,ymin=-1,ymax=1,color='k',ls='--',lw=1)\n",
    "reta_vertical = ax0.vlines(x=t2,ymin=-1,ymax=1,color='k',ls='--',lw=1)\n",
    "\n",
    "ax0.text(t1+1,0,f'$E[X_1] = {np.round(soma_t1/5,2)}$', fontsize=12)\n",
    "ax0.text(t2+1,0,f'$E[X_2] = {np.round(soma_t2/5,2)}$', fontsize=12)\n",
    "\n",
    "plt.show()"
   ]
  },
  {
   "cell_type": "markdown",
   "id": "8e612bad",
   "metadata": {},
   "source": [
    "Criaremos um `plot_helper` para facilitar a criação e personalização dos gráficos."
   ]
  },
  {
   "cell_type": "code",
   "execution_count": null,
   "id": "14b3d48d",
   "metadata": {},
   "outputs": [],
   "source": [
    "def criar_grafico(ax, x, y=None, label=None, color=None, xlabel=None, ylabel=None, title=None,\n",
    "                  xlim=None, ylim=None, minorticks_on=False, tick_labelsize=14, legend_fontsize=12,\n",
    "                  title_loc='left', title_fontsize=14, grid_alpha=0.2):\n",
    "    \"\"\"\n",
    "    Configura um subplot em um gráfico matplotlib comum, incluindo definição de eixos,\n",
    "    rótulos, título, legenda e grade.\n",
    "\n",
    "    Parâmetros:\n",
    "        ax (Axes): Os eixos do subplot onde o gráfico será desenhado.\n",
    "        x (array-like): Os dados para o eixo x.\n",
    "        y (array-like, opcional): Os dados para o eixo y. Padrão é None.\n",
    "        label (str, opcional): O rótulo para a linha do gráfico. Padrão é None.\n",
    "        xlabel (str, opcional): O rótulo para o eixo x. Padrão é None.\n",
    "        ylabel (str, opcional): O rótulo para o eixo y. Padrão é None.\n",
    "        title (str, opcional): O título do subplot. Padrão é None.\n",
    "        xlim (tuple, opcional): Limite do eixo x. Padrão é None.\n",
    "        ylim (tuple, opcional): Limite do eixo y. Padrão é None.\n",
    "        minorticks_on (bool, opcional): Liga/desliga as marcações menores. Padrão é False.\n",
    "        tick_labelsize (int, opcional): Tamanho da fonte das marcações dos eixos. Padrão é 14.\n",
    "        legend_fontsize (int, opcional): Tamanho da fonte da legenda. Padrão é 12.\n",
    "        title_loc (str, opcional): Localização do título do subplot. Padrão é 'left'.\n",
    "        title_fontsize (int, opcional): Tamanho da fonte do título. Padrão é 14.\n",
    "        color (str, opcional): A cor da linha do gráfico. Padrão é None.\n",
    "        grid_alpha (float, opcional): Transparência das linhas da grade. Padrão é 0.2.\n",
    "\n",
    "    Retorna:\n",
    "        Line2D: O objeto de linha criado pelo método plot().\n",
    "\n",
    "    Exemplo de uso:\n",
    "        line = criar_grafico(ax, x, y, label='Dados', xlabel='Tempo (s)', ylabel='Amplitude',\n",
    "                             title='Gráfico de Linha', xlim=(0, 10), ylim=(0, 20))\n",
    "    \"\"\"\n",
    "    line, = ax.plot(x, y, color=color, label=label, lw=1)         # Plota os dados e obtém o objeto da linha\n",
    "\n",
    "    if xlim:                                                      # Define o limite do eixo x se fornecido\n",
    "        ax.set_xlim(*xlim)\n",
    "    ax.set_xlabel(xlabel, fontsize=14)                            # Define o rótulo do eixo x\n",
    "    \n",
    "    if ylim:                                                      # Define o limite do eixo y se fornecido\n",
    "        ax.set_ylim(*ylim)\n",
    "    ax.set_ylabel(ylabel, fontsize=14, rotation=90)                # Define o rótulo do eixo y\n",
    "    \n",
    "    if minorticks_on:                                             # Liga as marcações menores se necessário\n",
    "        ax.minorticks_on()\n",
    "    \n",
    "    ax.tick_params(axis='both', labelsize=tick_labelsize)         # Define o tamanho da fonte das marcações\n",
    "    ax.legend(fontsize=legend_fontsize)                           # Exibe a legenda\n",
    "    \n",
    "    ax.set_title(title, loc=title_loc, fontsize=title_fontsize)   # Define o título do subplot\n",
    "    ax.grid(True, alpha=grid_alpha)                               # Liga a grade com transparência\n",
    "\n",
    "    return line                                                   # Retorna o objeto de linha"
   ]
  },
  {
   "cell_type": "code",
   "execution_count": null,
   "id": "62c30cc1",
   "metadata": {},
   "outputs": [],
   "source": [
    "t = np.linspace(0,2*np.pi)"
   ]
  },
  {
   "cell_type": "code",
   "execution_count": null,
   "id": "701d2589",
   "metadata": {},
   "outputs": [],
   "source": [
    "# Sinal constante\n",
    "sinal_constante = np.full(len(t),1)\n",
    "#sinal_senoidal = np.sin(2*np.pi*freq*t+phase)"
   ]
  },
  {
   "cell_type": "code",
   "execution_count": null,
   "id": "6b5461ca",
   "metadata": {},
   "outputs": [],
   "source": [
    "fig = plt.figure(figsize=(12, 3), dpi=200, layout='constrained')\n",
    "grid = GridSpec(1, 2, figure=fig)\n",
    "\n",
    "ax1 = plt.subplot(grid[0, 0])\n",
    "ax2 = plt.subplot(grid[0, 1])\n",
    "\n",
    "imp = signal.unit_impulse(1000, 'mid')\n",
    "sinal_tempo = ax1.plot(np.linspace(-10, 10, 1000), imp,color='tab:blue')\n",
    "sinal_tempo[0].set_linewidth(2)\n",
    "ax1.text(0.2, 0.8, r'$K \\delta (t)$',fontsize=14,color='tab:blue')\n",
    "ax1.set_ylim(0,1.1)\n",
    "ax1.set_xlim(-10,10)\n",
    "ax1.set_ylabel(r'$X(t)$', fontsize=14)\n",
    "ax1.set_xlabel(r'$t(s)$', fontsize=14)\n",
    "ax1.tick_params(axis='both', labelsize=14)\n",
    "ax1.grid(True, alpha=0.2)\n",
    "\n",
    "sinal_constante = np.full(len(t),1)\n",
    "sinal_frequencia = ax2.plot(t, sinal_constante, color='tab:red')\n",
    "sinal_frequencia[0].set_linewidth(2)\n",
    "\n",
    "ax2.set_yticks([0,0.2,0.4,0.6,0.8,1],['0','','','','',r'$K$'])\n",
    "ax2.set_xlabel(r'$\\omega$ (rad/s)', fontsize=14)\n",
    "ax2.set_ylabel(r'$|X(j\\omega)|$', fontsize=14)\n",
    "ax2.tick_params(axis='both', labelsize=14)\n",
    "ax2.grid(True, alpha=0.2)\n",
    "\n",
    "plt.show()"
   ]
  },
  {
   "cell_type": "code",
   "execution_count": null,
   "id": "d1e24148",
   "metadata": {},
   "outputs": [],
   "source": [
    "fig = plt.figure(figsize=(12, 3), dpi=200, layout='constrained')\n",
    "grid = GridSpec(1, 2, figure=fig)\n",
    "\n",
    "ax1 = plt.subplot(grid[0, 0])\n",
    "ax2 = plt.subplot(grid[0, 1])\n",
    "\n",
    "\n",
    "sinal_tempo = ax1.plot(t, sinal_constante)\n",
    "sinal_tempo[0].set_linewidth(2)\n",
    "ax1.set_yticks([0,0.2,0.4,0.6,0.8,1],['0','','','','',r'$K$'])\n",
    "ax1.set_ylim(0,1.1)\n",
    "ax1.set_xlim(0,)\n",
    "ax1.set_ylabel(r'$X(t)$', fontsize=14)\n",
    "ax1.set_xlabel(r'$t(s)$', fontsize=14)\n",
    "ax1.tick_params(axis='both', labelsize=14)\n",
    "ax1.grid(True, alpha=0.2)\n",
    "\n",
    "imp = signal.unit_impulse(1000, 'mid')\n",
    "sinal_frequencia = ax2.plot(np.arange(-500, 500), imp,color='tab:red')\n",
    "sinal_frequencia[0].set_linewidth(2)\n",
    "\n",
    "ax2.text(50, 0.6, r'$K \\delta (\\omega)$',fontsize=14,color='tab:red')\n",
    "ax2.set_xlabel(r'$\\omega$ (rad/s)', fontsize=14)\n",
    "ax2.set_ylabel(r'$|X(j\\omega)|$', fontsize=14)\n",
    "ax2.tick_params(axis='both', labelsize=14)\n",
    "ax2.grid(True, alpha=0.2)\n",
    "\n",
    "plt.show()"
   ]
  },
  {
   "cell_type": "markdown",
   "id": "51e3fa38",
   "metadata": {},
   "source": [
    "## $f(t)$"
   ]
  },
  {
   "cell_type": "code",
   "execution_count": 11,
   "id": "9e90559f",
   "metadata": {},
   "outputs": [
    {
     "data": {
      "image/png": "[encoded data removed]",
      "text/plain": [
       "<Figure size 1200x300 with 1 Axes>"
      ]
     },
     "metadata": {},
     "output_type": "display_data"
    }
   ],
   "source": [
    "t = np.linspace(0,2*np.pi,1000)\n",
    "\n",
    "fig = plt.figure(figsize=(12, 3), layout='constrained')\n",
    "grid = GridSpec(1, 1, figure=fig)\n",
    "\n",
    "ax1 = plt.subplot(grid[0, 0])\n",
    "\n",
    "funcao = ax1.plot(t, np.sin(5*t)*np.exp(-.3*t))\n",
    "\n",
    "plt.show()"
   ]
  }
 ],
 "metadata": {
  "kernelspec": {
   "display_name": "Python 3 (ipykernel)",
   "language": "python",
   "name": "python3"
  },
  "language_info": {
   "codemirror_mode": {
    "name": "ipython",
    "version": 3
   },
   "file_extension": ".py",
   "mimetype": "text/x-python",
   "name": "python",
   "nbconvert_exporter": "python",
   "pygments_lexer": "ipython3",
   "version": "3.11.3"
  }
 },
 "nbformat": 4,
 "nbformat_minor": 5
}
