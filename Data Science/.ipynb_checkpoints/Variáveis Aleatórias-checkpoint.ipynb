{
 "cells": [
  {
   "cell_type": "markdown",
   "id": "e5c30ee5",
   "metadata": {},
   "source": [
    "# Variável aleatória"
   ]
  },
  {
   "cell_type": "markdown",
   "id": "34b617c1",
   "metadata": {},
   "source": [
    "Uma variável aleatória $X$ é uma função do espaço amostral $\\mathsf{S}$ nos reais $\\mathbb{R}$"
   ]
  },
  {
   "cell_type": "markdown",
   "id": "914e65de",
   "metadata": {},
   "source": [
    "$$\n",
    "X: \\mathsf{S} \\mapsto \\mathbb{R}\n",
    "$$"
   ]
  },
  {
   "cell_type": "markdown",
   "id": "baf5952b",
   "metadata": {},
   "source": [
    "Ao definir uma variável aleatória, precisamos também definir um novo espaço amostral (o intervalo da variável aleatória). Para isso, considere o seguinte espaço amostral "
   ]
  },
  {
   "cell_type": "markdown",
   "id": "3e5dde5b",
   "metadata": {},
   "source": [
    "$$\n",
    "\\mathsf{S} = \\{s_1,...,s_n\\}\n",
    "$$"
   ]
  },
  {
   "cell_type": "markdown",
   "id": "d811e394",
   "metadata": {},
   "source": [
    "Com função probabilidade $\\mathsf{P}$ sobre a qual definiremos uma variável aleatória $X$ com intervalo $\\mathcal{X} = \\{x_1,...,x_m\\}$. Podemos definir uma função de probabilidade $P_X$ em $\\mathcal{X}$ do seguinte modo:"
   ]
  },
  {
   "cell_type": "markdown",
   "id": "0de1e98c",
   "metadata": {},
   "source": [
    "> Será observado $X=x_i$ se e somente se o resultado do experimento aleatório for um $s_j \\in \\mathsf{S}$ tal que $X(s_j)=x_i$. Assim,\n",
    "\n",
    "$$\n",
    "P_X(X=x_i) = P(\\{s_j \\in \\mathsf{S}: X(s_j) = x_i\\})\n",
    "$$"
   ]
  },
  {
   "cell_type": "markdown",
   "id": "5708f5e6",
   "metadata": {},
   "source": [
    "### Exemplo\n",
    "Considere o sucessivo lançamento de uma moeda honesta três vezes. O espaço amostral $\\mathsf{S}$ é definido por"
   ]
  },
  {
   "cell_type": "markdown",
   "id": "87c9a0f1",
   "metadata": {},
   "source": [
    "<center>\n",
    "<img src = 'lancamento_moeda.png' width=400>\n",
    "</center>"
   ]
  },
  {
   "cell_type": "markdown",
   "id": "da34136f",
   "metadata": {},
   "source": [
    "Agora define-se a variável aleatória $X$ como sendo o número de caras $\\{K\\}$ obtidas nesses três lançamentos. O quadro abaixo ilustra a enumeração de cada valor de $X$ em cada ponto do espaço amostral."
   ]
  },
  {
   "cell_type": "markdown",
   "id": "4d983a92",
   "metadata": {},
   "source": [
    "<center>\n",
    "<img src = 'mapeamento_lancamentos.png' width=600>\n",
    "</center>"
   ]
  }
 ],
 "metadata": {
  "kernelspec": {
   "display_name": "Python 3 (ipykernel)",
   "language": "python",
   "name": "python3"
  },
  "language_info": {
   "codemirror_mode": {
    "name": "ipython",
    "version": 3
   },
   "file_extension": ".py",
   "mimetype": "text/x-python",
   "name": "python",
   "nbconvert_exporter": "python",
   "pygments_lexer": "ipython3",
   "version": "3.11.3"
  }
 },
 "nbformat": 4,
 "nbformat_minor": 5
}
