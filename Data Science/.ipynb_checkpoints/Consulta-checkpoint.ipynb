{
 "cells": [
  {
   "cell_type": "markdown",
   "id": "6f3b9287",
   "metadata": {},
   "source": [
    "Comando para renderizar textos dos gráficos em <b>LaTeX</b>"
   ]
  },
  {
   "cell_type": "markdown",
   "id": "1cd5a745",
   "metadata": {},
   "source": [
    "```python\n",
    "# LaTeX\n",
    "plt.rcParams.update({\n",
    "    \"text.usetex\": True,\n",
    "    \"font.family\": \"latinmodern-math\",\n",
    "    \"text.latex.preamble\": r\"\\usepackage{amsmath}\",\n",
    "})\n",
    "```"
   ]
  },
  {
   "cell_type": "markdown",
   "id": "2ee739f1",
   "metadata": {},
   "source": [
    "```python\n",
    "# Ajusta qualidade da imagem do plot\n",
    "plt.figure(dpi=150)\n",
    "```"
   ]
  },
  {
   "cell_type": "markdown",
   "id": "6f5eab1a",
   "metadata": {},
   "source": [
    "```python\n",
    "# Gráfico vertical com bola (impulso)\n",
    "plt.stem(x, y)\n",
    "```"
   ]
  },
  {
   "cell_type": "markdown",
   "id": "c2fe69f1",
   "metadata": {},
   "source": [
    "```python\n",
    "# Introduz variaveis e as formata em texto\n",
    "f'$\\lambda$ = {lmbda}'\n",
    "```"
   ]
  },
  {
   "cell_type": "markdown",
   "id": "0fe09c91",
   "metadata": {},
   "source": [
    "```python\n",
    "# Insere texto no gráfico\n",
    "plt.text(x, y , 'texto,' fontsize=14, color='tab:blue')\n",
    "```"
   ]
  },
  {
   "cell_type": "markdown",
   "id": "8c61cae3",
   "metadata": {},
   "source": [
    "### Barras coloridas\n",
    "```python\n",
    "# height           : altura da barra\n",
    "# width            : largura da barra\n",
    "# background-color : cor da barra\n",
    "<div style = \"height: 10px; width:100%; background-color:#0070C0;\"></div>\n",
    "```"
   ]
  },
  {
   "cell_type": "markdown",
   "id": "748ea36e",
   "metadata": {},
   "source": [
    "### Barras com gradiente\n",
    "```python\n",
    "# gradiente da direita para esquerda\n",
    "<div style=\"width: 100%; height: 5px; background-image: linear-gradient(to right, #0070C0, yellow);\"></div>\n",
    "```"
   ]
  },
  {
   "cell_type": "markdown",
   "id": "b99609af",
   "metadata": {},
   "source": [
    "### Cor da fonte\n",
    "\n",
    "```python\n",
    "# font color : cor da fonte\n",
    "<font color='#0070C0'>Estatística aplicada a Data Science</font>\n",
    "```"
   ]
  },
  {
   "cell_type": "markdown",
   "id": "8a35be04",
   "metadata": {},
   "source": [
    "<div class=\"alert alert-block alert-success\">  \n",
    "    Mensagem de sucesso!\n",
    "</div>\n",
    "\n",
    "<div class=\"alert alert-block alert-info\">  \n",
    "    Mensagem de informação!\n",
    "</div>\n",
    "\n",
    "<div class=\"alert alert-block alert-danger\">  \n",
    "    Mensagem de erro!\n",
    "</div>\n",
    "\n",
    "<div class=\"alert alert-block alert-warning\">  \n",
    "    Mensagem de alerta!\n",
    "</div>"
   ]
  },
  {
   "cell_type": "markdown",
   "id": "9bf83d57",
   "metadata": {},
   "source": [
    "### Gráficos\n",
    "```python\n",
    "# Cria stem colorido\n",
    "markerline, stemlines, baseline = plt.stem(x, y, markerfmt='o')\n",
    "plt.setp(stemlines, 'color', 'tab:pink')\n",
    "plt.setp(markerline, 'markerfacecolor', 'tab:pink', 'markeredgecolor', 'none')\n",
    "\n",
    "\n",
    "# Cria preenchimento entre dois pontos das curvas\n",
    "x_inicio_preenchimento = 0\n",
    "x_final_preenchimento = media\n",
    "\n",
    "# Preenche região nas distribuições\n",
    "plt.fill_between(x, pdf_uniforme, where=(x >= x_inicio_preenchimento) & (x <= x_final_preenchimento), color='tab:blue', alpha=0.1)\n",
    "```"
   ]
  },
  {
   "cell_type": "markdown",
   "id": "1e1b59dd",
   "metadata": {},
   "source": [
    "### Formatar texto\n",
    "```python\n",
    "axs[0].text(3, 75, r'\\boldmath{$e^x$}', fontsize=30, color='tab:green', verticalalignment='bottom')\n",
    "r'\\textbf{Counts of} $\\lambda$'\n",
    "```\n",
    "\n"
   ]
  }
 ],
 "metadata": {
  "kernelspec": {
   "display_name": "Python 3 (ipykernel)",
   "language": "python",
   "name": "python3"
  },
  "language_info": {
   "codemirror_mode": {
    "name": "ipython",
    "version": 3
   },
   "file_extension": ".py",
   "mimetype": "text/x-python",
   "name": "python",
   "nbconvert_exporter": "python",
   "pygments_lexer": "ipython3",
   "version": "3.11.3"
  }
 },
 "nbformat": 4,
 "nbformat_minor": 5
}
