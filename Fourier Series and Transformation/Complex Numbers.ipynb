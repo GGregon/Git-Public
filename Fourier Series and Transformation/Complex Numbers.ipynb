{
 "cells": [
  {
   "cell_type": "markdown",
   "id": "0f40f6f4",
   "metadata": {},
   "source": [
    "### Cartesiana\n",
    "\n",
    "$$\n",
    "z = a+bi\n",
    "$$\n",
    "Onde :\n",
    "* $a,b \\in \\mathbb{R}$\n",
    "* $a = \\Re(z)$\n",
    "* $b = \\Im(z)$"
   ]
  },
  {
   "cell_type": "markdown",
   "id": "2ad3b960",
   "metadata": {},
   "source": [
    "### Trigonométrica (Polar)\n",
    "\n",
    "$$\n",
    "z = \\rho \\text{cis}\\theta \\triangleq \\rho (\\cos \\theta + j \\sin \\theta)\n",
    "$$\n",
    "\n",
    "Onde:\n",
    "* $\\rho = |z| = \\sqrt{a^2 +b^2}$\n",
    "* $\\sin \\theta = b/\\rho$\n",
    "* $\\cos \\theta = a/\\rho$"
   ]
  },
  {
   "cell_type": "markdown",
   "id": "73f977ba",
   "metadata": {},
   "source": [
    "> Conforme visto na representação cartesiana, $a = \\Re(z)$ e $b = \\Im(z)$, logo:\n",
    "> * $\\rho \\sin\\theta = \\Re(z)$\n",
    "> * $\\rho \\cos\\theta = \\Im(z)$"
   ]
  },
  {
   "cell_type": "markdown",
   "id": "15797820",
   "metadata": {},
   "source": [
    "### Exponencial (Euler)\n",
    "\n",
    "<b>Fórmula de Euler</b>\n",
    "$e^{i\\theta} = \\cos(\\theta) + i\\sin(\\theta)$\n",
    "\n",
    "$$\n",
    "z = \\rho e^{i\\theta}\n",
    "$$"
   ]
  },
  {
   "cell_type": "markdown",
   "id": "48021549",
   "metadata": {},
   "source": [
    "> A representação acima nos permite interpretar cada fator com um significado:\n",
    "> * $\\rho$ é o módulo (magnitude) do número complexo $z$\n",
    "> * $e^{i\\theta}$ indica a direção que $z$ forma com o eixo real, nesse caso, um ângulo de $\\theta$ graus no sentido trigonométirco"
   ]
  },
  {
   "cell_type": "markdown",
   "id": "2e48b08b",
   "metadata": {},
   "source": [
    "Todas as representações acima são verificadas nas figuras abaixo:    "
   ]
  },
  {
   "cell_type": "markdown",
   "id": "af741085",
   "metadata": {},
   "source": [
    "<center>\n",
    "<img src='.\\Images\\complex_1.png' width=600>\n",
    "</center>"
   ]
  },
  {
   "cell_type": "markdown",
   "id": "033ec769",
   "metadata": {},
   "source": [
    "No caso onde $\\theta=\\theta(t)=2\\pi f t$, podemos adicionar o tempo como uma terceira dimensão e visualizar o complexo z como sendo o número com as seguintes projeções:\n",
    "\n",
    "* Plano $\\Re(z)$, $t$ : $\\rho\\cos(2\\pi f t)$ \n",
    "* Plano $\\Im(z)$, $t$ : $\\rho\\sin(2\\pi f t)$\n",
    "* Plano $\\Re(z)$, $\\Im(z)$ : Circunferência centrada na origem com raio $\\rho$"
   ]
  },
  {
   "cell_type": "markdown",
   "id": "953c7dd7",
   "metadata": {},
   "source": [
    "<center>\n",
    "<img src='.\\Images\\complex_2.png' width=800>\n",
    "</center>"
   ]
  }
 ],
 "metadata": {
  "kernelspec": {
   "display_name": "Python 3 (ipykernel)",
   "language": "python",
   "name": "python3"
  },
  "language_info": {
   "codemirror_mode": {
    "name": "ipython",
    "version": 3
   },
   "file_extension": ".py",
   "mimetype": "text/x-python",
   "name": "python",
   "nbconvert_exporter": "python",
   "pygments_lexer": "ipython3",
   "version": "3.11.3"
  }
 },
 "nbformat": 4,
 "nbformat_minor": 5
}
